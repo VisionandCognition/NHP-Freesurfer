{
 "cells": [
  {
   "cell_type": "markdown",
   "metadata": {},
   "source": [
    "# **Create NMT FS Surfaces**  "
   ]
  },
  {
   "cell_type": "markdown",
   "metadata": {},
   "source": [
    "## Initiate \n",
    "Setting a few environment variables here so we can actually run code from this notebook"
   ]
  },
  {
   "cell_type": "code",
   "execution_count": null,
   "metadata": {},
   "outputs": [],
   "source": [
    "SUBJ=NMT  # Name of the animal you are going to process\n",
    "NMT_path=/NHP_MRI/Template/NMT # path to the template folder\n",
    "startpath=pwd # current directory"
   ]
  },
  {
   "cell_type": "markdown",
   "metadata": {},
   "source": [
    "#### Create folders & copy files"
   ]
  },
  {
   "cell_type": "code",
   "execution_count": null,
   "metadata": {},
   "outputs": [],
   "source": [
    "# create a folder for the freesurfer surfaces we will eventually end up with\n",
    "fsSurf=${NMT_path}/fsSurf\n",
    "mkdir -p ${fsSurf}\n",
    "\n",
    "# make subfolders for structure\n",
    "fsSurf_src=${fsSurf}/src\n",
    "fsSurf_mgz=${fsSurf}/mgz\n",
    "fsSurf_temp=${fsSurf}/temp\n",
    "mkdir -p ${fsSurf_src}\n",
    "mkdir -p ${fsSurf_mgz}\n",
    "mkdir -p ${fsSurf_temp}\n",
    "\n",
    "# initialize an array to be able to loop over hemispheres\n",
    "HEMI=(lh rh) "
   ]
  },
  {
   "cell_type": "code",
   "execution_count": null,
   "metadata": {},
   "outputs": [],
   "source": [
    "# copy the source files from the NMT segmentation to the freesurfer folders you just created\n",
    "cp ${NMT_path}/NMT.nii.gz ${fsSurf_src}/T1.nii.gz\n",
    "cp ${NMT_path}/NMT_SS.nii.gz ${fsSurf_src}/brain.nii.gz\n",
    "cp ${NMT_path}/NMT_SS.nii.gz ${fsSurf_src}/brainmask.nii.gz # freesurfer brainmask aren't actually masks\n",
    "cp ${NMT_path}/masks/probabilisitic_segmentation_masks/NMT_segmentation_WM.nii.gz ${fsSurf_src}/wm.nii.gz\n",
    "cp ${NMT_path}/masks/anatomical_masks/NMT_blood_vasculature_mask.nii.gz ${fsSurf_src}/blood.nii.gz\n",
    "\n",
    "# copy source files again but keep these in original state \n",
    "# (for others the header will be changed to 'fake' 1 mm voxels, which is necessary for freesurfer)\n",
    "mkdir -p ${fsSurf_src}/org\n",
    "cp ${fsSurf_src}/*.nii.gz ${fsSurf_src}/org/"
   ]
  },
  {
   "cell_type": "markdown",
   "metadata": {},
   "source": [
    "#### Change headers to mimic 0.5 mm isotropic voxels & make mgz files\n",
    "Freesurfer will downsample to 1 mm which should be ok"
   ]
  },
  {
   "cell_type": "code",
   "execution_count": null,
   "metadata": {},
   "outputs": [],
   "source": [
    "# change headers\n",
    "voxsz=0.5\n",
    "3drefit -xdel $voxsz -ydel $voxsz -zdel $voxsz -keepcen ${fsSurf_src}/T1.nii.gz\n",
    "3drefit -xdel $voxsz -ydel $voxsz -zdel $voxsz -keepcen ${fsSurf_src}/brain.nii.gz\n",
    "3drefit -xdel $voxsz -ydel $voxsz -zdel $voxsz -keepcen ${fsSurf_src}/brainmask.nii.gz\n",
    "3drefit -xdel $voxsz -ydel $voxsz -zdel $voxsz -keepcen ${fsSurf_src}/wm.nii.gz\n",
    "3drefit -xdel $voxsz -ydel $voxsz -zdel $voxsz -keepcen ${fsSurf_src}/blood.nii.gz"
   ]
  },
  {
   "cell_type": "code",
   "execution_count": null,
   "metadata": {},
   "outputs": [],
   "source": [
    "fslmaths ${fsSurf_src}/wm.nii.gz -sub ${fsSurf_src}/blood.nii.gz -thr 0.1 -bin ${fsSurf_src}/wm.nii.gz\n",
    "fslmaths ${fsSurf_src}/wm.nii.gz -mul 255 ${fsSurf_src}/wm255.nii.gz\n",
    "fslmaths ${fsSurf_src}/brain.nii.gz -mas ${fsSurf_src}/blood.nii.gz ${fsSurf_src}/subtractblood.nii.gz\n",
    "fslmaths ${fsSurf_src}/brain.nii.gz -sub ${fsSurf_src}/subtractblood.nii.gz ${fsSurf_src}/brain.nii.gz\n",
    "fslmaths ${fsSurf_src}/T1.nii.gz -sub ${fsSurf_src}/subtractblood.nii.gz ${fsSurf_src}/T1.nii.gz"
   ]
  },
  {
   "cell_type": "code",
   "execution_count": null,
   "metadata": {},
   "outputs": [],
   "source": [
    "# convert to mgz files for freesurfer\n",
    "mri_convert -c ${fsSurf_src}/T1.nii.gz ${fsSurf_mgz}/T1.mgz\n",
    "mri_convert -c ${fsSurf_src}/brain.nii.gz ${fsSurf_mgz}/brain.mgz\n",
    "mri_convert -c ${fsSurf_src}/brain.nii.gz ${fsSurf_mgz}/brainmask.mgz\n",
    "mri_convert -c ${fsSurf_src}/brainmask.nii.gz ${fsSurf_mgz}/brainmask_binary.mgz -rt nearest\n",
    "mri_convert -c ${fsSurf_src}/wm.nii.gz ${fsSurf_mgz}/wm.mgz -rt nearest\n",
    "mri_convert -c ${fsSurf_src}/wm255.nii.gz ${fsSurf_mgz}/wm255.mgz -rt nearest"
   ]
  },
  {
   "cell_type": "code",
   "execution_count": null,
   "metadata": {},
   "outputs": [],
   "source": [
    "# create brain.finalsurfs.mgz\n",
    "mri_mask -T 5 ${fsSurf_mgz}/brain.mgz ${fsSurf_mgz}/brainmask.mgz ${fsSurf_mgz}/brain.finalsurfs.mgz"
   ]
  },
  {
   "cell_type": "markdown",
   "metadata": {},
   "source": [
    "#### Get corpus callosum and pons voxel coordinates\n",
    "These will later define the cutting planes for the surface generation so make sure that 1) the corpus callosum is in the middle, and 2) the pons coordinates are low enough to not cut through cortex. \n",
    "\n",
    "Corpus callosum:  \n",
    "![CC](pics/CC_coordinates.png)\n",
    "\n",
    "Pons: \n",
    "![PONS](pics/PONS_coordinates.png)"
   ]
  },
  {
   "cell_type": "code",
   "execution_count": null,
   "metadata": {},
   "outputs": [],
   "source": [
    "# Inspect volume to get voxel coordinates\n",
    "freeview -v ${fsSurf_mgz}/brain.mgz &"
   ]
  },
  {
   "cell_type": "code",
   "execution_count": null,
   "metadata": {},
   "outputs": [],
   "source": [
    "cp ${fsSurf_mgz}/wm255.mgz ${fsSurf_mgz}/wm.mgz"
   ]
  },
  {
   "cell_type": "markdown",
   "metadata": {},
   "source": [
    "Set the corpus callosum and pons coordinates here. Don't forget to also do these if you don't go through all other steps."
   ]
  },
  {
   "cell_type": "code",
   "execution_count": null,
   "metadata": {},
   "outputs": [],
   "source": [
    "CC=(128 117 130) # corpus callosum\n",
    "PONS=(128 152 108) # pons"
   ]
  },
  {
   "cell_type": "markdown",
   "metadata": {},
   "source": [
    "#### Fill the white matter volume & copy for backup before fixing"
   ]
  },
  {
   "cell_type": "code",
   "execution_count": null,
   "metadata": {},
   "outputs": [],
   "source": [
    "# Fill WM\n",
    "mri_fill -CV ${CC[0]} ${CC[1]} ${CC[2]} \\\n",
    "    -PV ${PONS[0]} ${PONS[1]} ${PONS[2]} \\\n",
    "    ${fsSurf_mgz}/wm.mgz ${fsSurf_mgz}/filled.mgz\n",
    "# copy the original white matter before applying fixes    \n",
    "cp ${fsSurf_mgz}/wm.mgz ${fsSurf_mgz}/wm_nofix.mgz"
   ]
  },
  {
   "cell_type": "markdown",
   "metadata": {},
   "source": [
    "#### Tesselate volumes & fix topology (First run)"
   ]
  },
  {
   "cell_type": "code",
   "execution_count": null,
   "metadata": {},
   "outputs": [],
   "source": [
    "# Tesselate\n",
    "# left hemisphere\n",
    "mri_pretess ${fsSurf_mgz}/filled.mgz 255 ${fsSurf_mgz}/brain.mgz ${fsSurf_mgz}/wm_filled-pretess255.mgz\n",
    "mri_tessellate ${fsSurf_mgz}/wm_filled-pretess255.mgz 255 ${fsSurf_temp}/lh.orig.nofix\n",
    "# right hemisphere\n",
    "mri_pretess ${fsSurf_mgz}/filled.mgz 127 ${fsSurf_mgz}/brain.mgz ${fsSurf_mgz}/wm_filled-pretess127.mgz\n",
    "mri_tessellate ${fsSurf_mgz}/wm_filled-pretess127.mgz 127 ${fsSurf_temp}/rh.orig.nofix\n",
    "\n",
    "# for both hemispheres\n",
    "for xh in ${HEMI[@]}; do\n",
    "    # create a version we can edit\n",
    "    cp ${fsSurf_temp}/${xh}.orig.nofix ${fsSurf_temp}/${xh}.orig\n",
    "\n",
    "    # post-process tesselation\n",
    "    mris_extract_main_component ${fsSurf_temp}/${xh}.orig.nofix ${fsSurf_temp}/${xh}.orig.nofix\n",
    "    mris_smooth -nw ${fsSurf_temp}/${xh}.orig.nofix ${fsSurf_temp}/${xh}.smoothwm.nofix\n",
    "    mris_inflate ${fsSurf_temp}/${xh}.smoothwm.nofix ${fsSurf_temp}/${xh}.inflated.nofix\n",
    "    mris_sphere -q ${fsSurf_temp}/${xh}.inflated.nofix ${fsSurf_temp}/${xh}.qsphere.nofix\n",
    "    cp ${fsSurf_temp}/${xh}.inflated.nofix ${fsSurf_temp}/${xh}.inflated\n",
    "\n",
    "    # fix topology\n",
    "    mris_euler_number ${fsSurf_temp}/${xh}.orig\n",
    "    mris_remove_intersection ${fsSurf_temp}/${xh}.orig ${fsSurf_temp}/${xh}.orig\n",
    "    mris_smooth -nw ${fsSurf_temp}/${xh}.orig ${fsSurf_temp}/${xh}.smoothwm\n",
    "    mris_inflate ${fsSurf_temp}/${xh}.smoothwm ${fsSurf_temp}/${xh}.inflated\n",
    "done"
   ]
  },
  {
   "cell_type": "markdown",
   "metadata": {},
   "source": [
    "#### Iterate manual adjustments and doing tesselation & topology fix again\n",
    "Should look something like this. Keep going (adjust `wm.mgz` using the recon-edit function of Freeview) until you are happy with the result.\n",
    "\n",
    "![LH_wm_inflated_lateral](pics/LH_wm_inflated_lateral.png) ![LH_wm_inflated_medial](pics/LH_wm_inflated_medial.png)\n"
   ]
  },
  {
   "cell_type": "code",
   "execution_count": null,
   "metadata": {},
   "outputs": [],
   "source": [
    "# look at the result and apply fixes in WM definition\n",
    "# you will want to get rid of weird 'stalks' and 'bridges'\n",
    "freeview -v ${fsSurf_mgz}/brain.mgz -v ${fsSurf_mgz}/wm.mgz \\\n",
    "    -f ${fsSurf_temp}/lh.smoothwm ${fsSurf_temp}/lh.inflated \\\n",
    "    ${fsSurf_temp}/rh.smoothwm ${fsSurf_temp}/rh.inflated &"
   ]
  },
  {
   "cell_type": "code",
   "execution_count": null,
   "metadata": {},
   "outputs": [],
   "source": [
    "# redo the tesselation with the freshly fixed WM volume\n",
    "mri_fill -CV ${CC[0]} ${CC[1]} ${CC[2]} \\\n",
    "    -PV ${PONS[0]} ${PONS[1]} ${PONS[2]} \\\n",
    "    ${fsSurf_mgz}/wm.mgz ${fsSurf_mgz}/filled.mgz"
   ]
  },
  {
   "cell_type": "markdown",
   "metadata": {},
   "source": [
    "The Pons-based cut may slice through the temporal lobes. Haven't found a way to fix this other than manually editing the `filled.mgz volume` after the `mri_fill` step."
   ]
  },
  {
   "cell_type": "code",
   "execution_count": null,
   "metadata": {},
   "outputs": [],
   "source": [
    "mri_pretess ${fsSurf_mgz}/filled.mgz 255 ${fsSurf_mgz}/brain.mgz ${fsSurf_mgz}/wm_filled-pretess255.mgz\n",
    "mri_tessellate ${fsSurf_mgz}/wm_filled-pretess255.mgz 255 ${fsSurf_temp}/lh.orig\n",
    "mri_pretess ${fsSurf_mgz}/filled.mgz 127 ${fsSurf_mgz}/brain.mgz ${fsSurf_mgz}/wm_filled-pretess127.mgz\n",
    "mri_tessellate ${fsSurf_mgz}/wm_filled-pretess127.mgz 127 ${fsSurf_temp}/rh.orig"
   ]
  },
  {
   "cell_type": "code",
   "execution_count": null,
   "metadata": {},
   "outputs": [],
   "source": [
    "for xh in ${HEMI[@]}; do\n",
    "    mris_extract_main_component ${fsSurf_temp}/${xh}.orig ${fsSurf_temp}/${xh}.orig\n",
    "    mris_smooth -nw ${fsSurf_temp}/${xh}.orig ${fsSurf_temp}/${xh}.smoothwm\n",
    "    mris_inflate ${fsSurf_temp}/${xh}.smoothwm ${fsSurf_temp}/${xh}.inflated\n",
    "    mris_sphere -q ${fsSurf_temp}/${xh}.inflated ${fsSurf_temp}/${xh}.qsphere\n",
    "    \n",
    "    mris_euler_number ${fsSurf_temp}/${xh}.orig\n",
    "    mris_remove_intersection ${fsSurf_temp}/${xh}.orig ${fsSurf_temp}/${xh}.orig\n",
    "    mris_smooth -nw ${fsSurf_temp}/${xh}.orig ${fsSurf_temp}/${xh}.smoothwm\n",
    "    mris_inflate ${fsSurf_temp}/${xh}.smoothwm ${fsSurf_temp}/${xh}.inflated\n",
    "    mris_curvature -thresh .999 -n -a 5 -w -distances 10 10 ${fsSurf_temp}/${xh}.inflated\n",
    "done"
   ]
  },
  {
   "cell_type": "code",
   "execution_count": null,
   "metadata": {},
   "outputs": [],
   "source": [
    "# create the spheres (this takes longer so do it only when you're happy with the inflated)\n",
    "for xh in ${HEMI[@]}; do\n",
    "    mris_sphere ${fsSurf_temp}/${xh}.inflated ${fsSurf_temp}/${xh}.sphere\n",
    "done"
   ]
  },
  {
   "cell_type": "markdown",
   "metadata": {},
   "source": [
    "#### Create a subject directory in your freesurfer subject directory"
   ]
  },
  {
   "cell_type": "code",
   "execution_count": null,
   "metadata": {},
   "outputs": [],
   "source": [
    "# create a freesurfer SUBJECT with the correct folder structure\n",
    "# NB! $SUBJECTS_DIR should be defined in your ~/.bashrc as the Freesurfer subjects directory\n",
    "echo 'Creating a subject directory for '${SUBJ} 'in:'\n",
    "echo ${SUBJECTS_DIR}/${SUBJ}\n",
    "mksubjdirs ${SUBJECTS_DIR}/${SUBJ}"
   ]
  },
  {
   "cell_type": "markdown",
   "metadata": {},
   "source": [
    "#### Move files to the Freesurfer subjects directory"
   ]
  },
  {
   "cell_type": "code",
   "execution_count": null,
   "metadata": {},
   "outputs": [],
   "source": [
    "# copy the necessary files for cutting to the subject directory\n",
    "for xh in ${HEMI[@]}; do\n",
    "    cp ${fsSurf_temp}/${xh}.inflated ${SUBJECTS_DIR}/${SUBJ}/surf/\n",
    "    cp ${fsSurf_temp}/${xh}.smoothwm ${SUBJECTS_DIR}/${SUBJ}/surf/\n",
    "    cp ${fsSurf_temp}/${xh}.orig ${SUBJECTS_DIR}/${SUBJ}/surf/\n",
    "    cp ${fsSurf_temp}/${xh}.qsphere ${SUBJECTS_DIR}/${SUBJ}/surf/\n",
    "done\n",
    "\n",
    "cp ${fsSurf_mgz}/T1.mgz ${SUBJECTS_DIR}/${SUBJ}/mri/T1.mgz\n",
    "cp ${fsSurf_mgz}/filled.mgz ${SUBJECTS_DIR}/${SUBJ}/mri/filled.mgz\n",
    "cp ${fsSurf_mgz}/wm.mgz ${SUBJECTS_DIR}/${SUBJ}/mri/wm.mgz\n",
    "cp ${fsSurf_mgz}/brain.finalsurfs.mgz ${SUBJECTS_DIR}/${SUBJ}/mri/brain.finalsurfs.mgz\n",
    "cp ${fsSurf_mgz}/brainmask.mgz ${SUBJECTS_DIR}/${SUBJ}/mri/brainmask.mgz"
   ]
  },
  {
   "cell_type": "markdown",
   "metadata": {},
   "source": [
    "Before we can start making the final surfaces we need a little trick to compensate for the low grey/white matter contrast in monkeys. Now that we have a white matter volume we are happy with (if not go back and fix it) we can use it to enhance the GM/WM contrast artificially and bring the voxel values into the range that Freesurfer expects. The difference looks somewhat like this (Left: normal brain, Right: contrast enhanced brain).\n",
    "\n",
    "![Brain](pics/brain.png) ![Brain_enh](pics/brain_enhanced.png)"
   ]
  },
  {
   "cell_type": "markdown",
   "metadata": {},
   "source": [
    "#### Make a contrast-enhanced brain volume to aid in getting the pial surface"
   ]
  },
  {
   "cell_type": "code",
   "execution_count": null,
   "metadata": {},
   "outputs": [],
   "source": [
    "# Make a folder for this procedure and convert the necessary files to nifti so we can use `fslmaths`\n",
    "mkdir -p $fsSurf/enh\n",
    "mri_convert ${fsSurf_mgz}/brain.mgz ${fsSurf}/enh/brain.nii.gz \n",
    "mri_convert ${fsSurf_mgz}/wm.mgz ${fsSurf}/enh/wm.nii.gz "
   ]
  },
  {
   "cell_type": "code",
   "execution_count": null,
   "metadata": {},
   "outputs": [],
   "source": [
    "# binarize the wm volume\n",
    "fslmaths ${fsSurf}/enh/wm.nii.gz -thr 0.5 -bin ${fsSurf}/enh/wm_bin.nii.gz\n",
    "fslmaths ${fsSurf}/enh/wm_bin.nii.gz -mul 110 ${fsSurf}/enh/wm_110.nii.gz"
   ]
  },
  {
   "cell_type": "code",
   "execution_count": null,
   "metadata": {},
   "outputs": [],
   "source": [
    "# divide the voxel value in the original brain volume by **some** value and add **another** value to the white matter only \n",
    "# which values you need here is up to you but we want to end with:\n",
    "# - white matter voxels having a value around 110 and grey matter in the range 60-80\n",
    "# alternative ways are definitely possible as long as your end result is similar\n",
    "\n",
    "# Tinker with voxel values to find a good starting point\n",
    "fslmaths ${fsSurf}/enh/wm_bin.nii.gz -mul 50 ${fsSurf}/enh/wm_add.nii.gz\n",
    "fslmaths  ${fsSurf}/enh/brain.nii.gz -mul 0.6 ${fsSurf}/enh/brain_enh.nii.gz\n",
    "fslmaths ${fsSurf}/enh/brain_enh.nii.gz -add ${fsSurf}/enh/wm_add.nii.gz ${fsSurf}/enh/brain_enh.nii.gz\n",
    "\n",
    "# convert the 'enhanced' brain back to mgz\n",
    "mri_convert ${fsSurf}/enh/brain_enh.nii.gz ${SUBJECTS_DIR}/${SUBJ}/mri/brain_enh.mgz\n",
    "mri_convert ${fsSurf}/enh/wm_110.nii.gz ${SUBJECTS_DIR}/${SUBJ}/mri/wm.mgz"
   ]
  },
  {
   "cell_type": "markdown",
   "metadata": {},
   "source": [
    "#### Create the surfaces"
   ]
  },
  {
   "cell_type": "code",
   "execution_count": null,
   "metadata": {},
   "outputs": [],
   "source": [
    "# create surfaces\n",
    "# this will take a while. don't wait for it. go get a coffee, call your mother, or read a paper.\n",
    "for xh in ${HEMI[@]}; do\n",
    "    mris_make_surfaces -noaseg -noaparc -T1 brain_enh -orig_wm orig ${SUBJ} ${xh}\n",
    "    mris_sphere ${SUBJECTS_DIR}/${SUBJ}/surf/${xh}.inflated ${SUBJECTS_DIR}/${SUBJ}/surf/${xh}.sphere\n",
    "done"
   ]
  },
  {
   "cell_type": "markdown",
   "metadata": {},
   "source": [
    "You should now have nicely looking inflated white matter surfaces and a projection of it onto a sphere surface. They should look somewhat like the following images.\n",
    "`freeview -f ${fsSurf_temp}/lh.smoothwm ${fsSurf_temp}/lh.inflated ${fsSurf_temp}/lh.sphere &`\n",
    "\n",
    "![surfaces_leged](pics/final_surf_legend.png)"
   ]
  },
  {
   "cell_type": "markdown",
   "metadata": {},
   "source": [
    "Inspect your results:"
   ]
  },
  {
   "cell_type": "code",
   "execution_count": null,
   "metadata": {},
   "outputs": [],
   "source": [
    "freeview -f ${SUBJECTS_DIR}/${SUBJ}/surf/lh.smoothwm ${SUBJECTS_DIR}/${SUBJ}/surf/lh.inflated ${SUBJECTS_DIR}/${SUBJ}/surf/lh.sphere &"
   ]
  },
  {
   "cell_type": "markdown",
   "metadata": {},
   "source": [
    "Copy the pial surface information to be able to make edits safely."
   ]
  },
  {
   "cell_type": "code",
   "execution_count": null,
   "metadata": {},
   "outputs": [],
   "source": [
    "mkdir -p ${SUBJECTS_DIR}/${SUBJ}/pial_edits # create a folder for pial edits\n",
    "cp -R ${SUBJECTS_DIR}/${SUBJ}/mri ${SUBJECTS_DIR}/${SUBJ}/pial_edits/ \n",
    "cp -R ${SUBJECTS_DIR}/${SUBJ}/surf ${SUBJECTS_DIR}/${SUBJ}/pial_edits/"
   ]
  },
  {
   "cell_type": "markdown",
   "metadata": {},
   "source": [
    "Check what the WM and pial surfaces look like."
   ]
  },
  {
   "cell_type": "code",
   "execution_count": null,
   "metadata": {},
   "outputs": [],
   "source": [
    "freeview -v ${SUBJECTS_DIR}/${SUBJ}/pial_edits/mri/T1.mgz ${SUBJECTS_DIR}/${SUBJ}/pial_edits/mri/brain_enh.mgz \\\n",
    "    -f ${SUBJECTS_DIR}/${SUBJ}/pial_edits/surf/lh.white:edgecolor=yellow ${SUBJECTS_DIR}/${SUBJ}/pial_edits/surf/lh.pial:edgecolor=red \\\n",
    "    ${SUBJECTS_DIR}/${SUBJ}/pial_edits/surf/rh.white:edgecolor=yellow ${SUBJECTS_DIR}/${SUBJ}/pial_edits/surf/rh.pial:edgecolor=red &"
   ]
  },
  {
   "cell_type": "markdown",
   "metadata": {},
   "source": [
    "NB! If you adjustments to the brainmask (which probably isn't necessary if NMT segmentation worked well), don't forget to copy back the adjusted `brain_enh` for re-generation of the pial surface."
   ]
  },
  {
   "cell_type": "code",
   "execution_count": null,
   "metadata": {},
   "outputs": [],
   "source": [
    "cp ${SUBJECTS_DIR}/${SUBJ}/pial_edits/mri/brain_enh.mgz ${SUBJECTS_DIR}/${SUBJ}/mri/brain_enh.mgz"
   ]
  },
  {
   "cell_type": "code",
   "execution_count": null,
   "metadata": {},
   "outputs": [],
   "source": [
    "# regenerate the pial surfaces\n",
    "for xh in ${HEMI[@]}; do\n",
    "    mris_make_surfaces  -noaseg -noaparc -orig_white white -orig_pial white -nowhite -mgz -T1 brain_enh ${SUBJ} ${xh}\n",
    "done"
   ]
  },
  {
   "cell_type": "markdown",
   "metadata": {},
   "source": [
    "Check what the WM and pial surfaces look like now."
   ]
  },
  {
   "cell_type": "code",
   "execution_count": null,
   "metadata": {},
   "outputs": [],
   "source": [
    "freeview -v ${SUBJECTS_DIR}/${SUBJ}/mri/T1.mgz ${SUBJECTS_DIR}/${SUBJ}/mri/brain_enh.mgz \\\n",
    "    -f ${SUBJECTS_DIR}/${SUBJ}/surf/lh.white:edgecolor=yellow ${SUBJECTS_DIR}/${SUBJ}/surf/lh.pial:edgecolor=red \\\n",
    "    ${SUBJECTS_DIR}/${SUBJ}/surf/rh.white:edgecolor=yellow ${SUBJECTS_DIR}/${SUBJ}/surf/rh.pial:edgecolor=red &"
   ]
  },
  {
   "cell_type": "code",
   "execution_count": null,
   "metadata": {},
   "outputs": [],
   "source": [
    "# create midcortical surface by growing the white matter halfway towards the pial surface\n",
    "for xh in ${HEMI[@]}; do\n",
    "    mris_expand -thickness ${SUBJECTS_DIR}/${SUBJ}/surf/${xh}.white 0.5 ${SUBJECTS_DIR}/${SUBJ}/surf/${xh}.graymid\n",
    "done"
   ]
  },
  {
   "cell_type": "code",
   "execution_count": null,
   "metadata": {},
   "outputs": [],
   "source": [
    "# Fix topology, smooth & inflate the final surfaces\n",
    "for xh in ${HEMI[@]}; do    \n",
    "    mris_euler_number ${SUBJECTS_DIR}/${SUBJ}/surf/${xh}.white\n",
    "    mris_remove_intersection ${SUBJECTS_DIR}/${SUBJ}/surf/${xh}.white ${SUBJECTS_DIR}/${SUBJ}/surf/${xh}.white\n",
    "    mris_smooth -n 3 -nw ${SUBJECTS_DIR}/${SUBJ}/surf/${xh}.white ${SUBJECTS_DIR}/${SUBJ}/surf/${xh}.smoothwm\n",
    "    \n",
    "    mris_euler_number ${SUBJECTS_DIR}/${SUBJ}/surf/${xh}.pial\n",
    "    mris_remove_intersection ${SUBJECTS_DIR}/${SUBJ}/surf/${xh}.pial ${SUBJECTS_DIR}/${SUBJ}/surf/${xh}.pial\n",
    "    mris_smooth -n 3 -nw ${SUBJECTS_DIR}/${SUBJ}/surf/${xh}.pial ${SUBJECTS_DIR}/${SUBJ}/surf/${xh}.smoothpial\n",
    "    \n",
    "    mris_euler_number ${SUBJECTS_DIR}/${SUBJ}/surf/${xh}.graymid\n",
    "    mris_remove_intersection ${SUBJECTS_DIR}/${SUBJ}/surf/${xh}.graymid ${SUBJECTS_DIR}/${SUBJ}/surf/${xh}.graymid\n",
    "    mris_smooth -n 3 -nw ${SUBJECTS_DIR}/${SUBJ}/surf/${xh}.graymid ${SUBJECTS_DIR}/${SUBJ}/surf/${xh}.smoothgraymid\n",
    "    \n",
    "    mris_inflate ${SUBJECTS_DIR}/${SUBJ}/surf/${xh}.smoothwm ${SUBJECTS_DIR}/${SUBJ}/surf/${xh}.inflated\n",
    "    mris_curvature -thresh .999 -n -a 5 -w -distances 10 10 ${SUBJECTS_DIR}/${SUBJ}/surf/${xh}.inflated\n",
    "    mris_sphere ${SUBJECTS_DIR}/${SUBJ}/surf/${xh}.inflated ${SUBJECTS_DIR}/${SUBJ}/surf/${xh}.sphere\n",
    "done"
   ]
  },
  {
   "cell_type": "markdown",
   "metadata": {},
   "source": [
    "### Cut surfaces and create flatmaps\n",
    "\n",
    "Cutting surfaces can be done in `Freeview` (for Freesurfer 7 and later) or `tksurfer` (Freesurfer 6 and older). The basic procedure is the same.\n",
    "The cells below will load the inflated hemispheres in `Freeview` where you can make the cuts to create the flatmaps. The old method using `tksurfer` is also still there but commented out. We strongly suggest you move on to to Freeurfer 7 (or later) and use `Freeview`.  \n",
    "\n",
    "NB! Freesurfer's `tktools` (like `tksurfer`) do not work on 64-bit only operating systems like Mac OS X 10.15 (Catalina) and later because they are 32 bits. If necessary, this step could be run on a (virtual) machine with a different OS. \n",
    "\n",
    "---\n",
    "\n",
    "For the full hemisphere make cuts on the medial wall. One cut enclosing the midline and five additional relaxation cuts.\n",
    "Mark a point on the part of the surface you want to keep and save patch as `?h.full.patch.3d` (replace '?' with 'l' and 'r' respectively)\n",
    "\n",
    "![Cut_full](pics/Cut_full.png)\n",
    "\n",
    "For an occipital patch make one cut on the medial wall along the calcarine sulcus. Use 3 points to select a coronal cutting plane, and a fourth point to select which part of the surface you want to keep. `Cut plane` and save as `?h.occip.patch.3d`\n",
    "\n",
    "![Cut_occip1](pics/Cut_occip1.png) ![Cut_occip1](pics/Cut_occip2.png)\n",
    "\n",
    "---\n",
    "\n",
    "Alternatively, cuts can also be made with other software. The [pycortex](https://github.com/gallantlab/pycortex) documentation mentions that it can be done with [Blender](https://www.blender.org/), but we have not tested this yet."
   ]
  },
  {
   "cell_type": "markdown",
   "metadata": {},
   "source": [
    "Cut the left hemisphere."
   ]
  },
  {
   "cell_type": "code",
   "execution_count": null,
   "metadata": {},
   "outputs": [],
   "source": [
    "# [FREEVIEW METHOD] left hemisphere\n",
    "freeview -f ${SUBJECTS_DIR}/${SUBJ}/surf/lh.inflated:curvature_method=binary &"
   ]
  },
  {
   "cell_type": "code",
   "execution_count": null,
   "metadata": {},
   "outputs": [],
   "source": [
    "# [DEPRECATED TKSURFER METHOD] left hemisphere\n",
    "#tksurfer ${SUBJ} lh inflated -curv\n",
    "#tksurfer ${SUBJ} lh inflated -gray "
   ]
  },
  {
   "cell_type": "markdown",
   "metadata": {},
   "source": [
    "Flatten the left hemisphere patches (this will take a while). Method is the same for `freeview` and `tksurfer` generated patches."
   ]
  },
  {
   "cell_type": "code",
   "execution_count": null,
   "metadata": {},
   "outputs": [],
   "source": [
    "cd ${SUBJECTS_DIR}/${SUBJ}/surf/\n",
    "mris_flatten -w 0 -distances 20 7 lh.full.patch.3d  lh.full.patch.flat\n",
    "#mris_flatten -w 0 -distances 20 7 lh.occip.patch.3d  lh.occip.patch.flat"
   ]
  },
  {
   "cell_type": "markdown",
   "metadata": {},
   "source": [
    "Check the results."
   ]
  },
  {
   "cell_type": "code",
   "execution_count": null,
   "metadata": {},
   "outputs": [],
   "source": [
    "# [FREEVIEW METHOD] check your result\n",
    "freeview -f ${SUBJECTS_DIR}/${SUBJ}/surf/lh.inflated:curvature_method=binary:patch=lh.full.patch.flat\n",
    "#freeview -f ${SUBJECTS_DIR}/${SUBJ}/surf/lh.inflated:curvature_method=binary:patch=lh.occip.patch.flat"
   ]
  },
  {
   "cell_type": "code",
   "execution_count": null,
   "metadata": {},
   "outputs": [],
   "source": [
    "# [DEPRECATED TKSURFER METHOD] check your result\n",
    "#tksurfer ${SUBJ} lh inflated -patch lh.full.patch.flat -gray # for a gray curvature map\n",
    "#tksurfer ${SUBJ} lh inflated -patch lh.occip.patch.flat -gray # for a gray curvature map"
   ]
  },
  {
   "cell_type": "markdown",
   "metadata": {},
   "source": [
    "Cut the right hemisphere."
   ]
  },
  {
   "cell_type": "code",
   "execution_count": null,
   "metadata": {},
   "outputs": [],
   "source": [
    "# [FREEVIEW METHOD] right hemisphere\n",
    "freeview -f ${SUBJECTS_DIR}/${SUBJ}/surf/rh.inflated:curvature_method=binary &"
   ]
  },
  {
   "cell_type": "code",
   "execution_count": null,
   "metadata": {},
   "outputs": [],
   "source": [
    "# [DEPRECATED TKSURFER METHOD] right hemisphere\n",
    "#tksurfer ${SUBJ} rh inflated -curv\n",
    "#tksurfer ${SUBJ} rh inflated -gray "
   ]
  },
  {
   "cell_type": "markdown",
   "metadata": {},
   "source": [
    "Flatten the right hemisphere patches (this will take a while). Method is the same for `freeview` and `tksurfer` generated patches."
   ]
  },
  {
   "cell_type": "code",
   "execution_count": null,
   "metadata": {},
   "outputs": [],
   "source": [
    "# flatten the right hemisphere patches (this will take a while)\n",
    "cd ${SUBJECTS_DIR}/${SUBJ}/surf/\n",
    "mris_flatten -w 0 -distances 20 7 rh.full.patch.3d  rh.full.patch.flat\n",
    "mris_flatten -w 0 -distances 20 7 rh.occip.patch.3d  rh.occip.patch.flat"
   ]
  },
  {
   "cell_type": "markdown",
   "metadata": {},
   "source": [
    "Check the results."
   ]
  },
  {
   "cell_type": "code",
   "execution_count": null,
   "metadata": {},
   "outputs": [],
   "source": [
    "# [DEPRECATED TKSURFER METHOD] check your result\n",
    "xh=rh\n",
    "tksurfer ${SUBJ} ${xh} inflated -patch ${xh}.full.patch.flat -gray # for a gray curvature map\n",
    "#tksurfer ${SUBJ} ${xh} inflated -patch ${xh}.occip.patch.flat -gray # for a gray curvature map"
   ]
  },
  {
   "cell_type": "markdown",
   "metadata": {},
   "source": [
    "If everything went well, you now have flatmaps of the white matter surface. \n",
    "They should look somewhat like this:  \n",
    "\n",
    "**Full hemisphere (rh)**  \n",
    "![RH_flatmap](pics/RH_Flat_Sulci_gray_nolegend.png) ![RH_flatmap_legend](pics/RH_Flat_Sulci_gray_legend.png)\n",
    "\n",
    "**Occipital (rh)** (functional areas are guesstimates based on anatomy)  \n",
    "![RH_occip](pics/RH_Flat_occip_gray_nolegend.png) ![RH_occip_gray_legend](pics/RH_Flat_occip_gray_legend.png)\n",
    "\n",
    "It is of course also possible to make **any** other funtionally relevant cutting pattern to extract a flatmap of a piece of cortex. The method is the same."
   ]
  },
  {
   "cell_type": "markdown",
   "metadata": {},
   "source": [
    "#### Convert Freesurfer surfaces to Gifti\n",
    "Other software may like this better."
   ]
  },
  {
   "cell_type": "code",
   "execution_count": null,
   "metadata": {},
   "outputs": [],
   "source": [
    "mkdir -p gii\n",
    "for xh in ${HEMI[@]}; do\n",
    "    mris_convert ${xh}.white ./gii/${xh}.white.gii\n",
    "    mris_convert ${xh}.graymid ./gii/${xh}.graymid.gii\n",
    "    mris_convert ${xh}.pial ./gii/${xh}.pial.gii\n",
    "    mris_convert ${xh}.inflated ./gii/${xh}.inflated.gii\n",
    "\n",
    "    mris_convert ${xh}.smoothwm ./gii/${xh}.smoothwm.gii\n",
    "    mris_convert ${xh}.smoothgraymid ./gii/${xh}.smoothgraymid.gii\n",
    "    mris_convert ${xh}.smoothpial ./gii/${xh}.smoothpial.gii\n",
    "    \n",
    "    mris_convert -p -c ${xh}.curv ${xh}.full.patch.flat ./gii/${xh}.full.patch.flat.gii\n",
    "    mris_convert -p -c ${xh}.curv ${xh}.occip.patch.flat ./gii/${xh}.occip.patch.flat.gii\n",
    "done"
   ]
  },
  {
   "cell_type": "markdown",
   "metadata": {},
   "source": [
    "#### Copy Freesurfer results back to NMT template folder"
   ]
  },
  {
   "cell_type": "code",
   "execution_count": null,
   "metadata": {},
   "outputs": [],
   "source": [
    "cp -r ${SUBJECTS_DIR}/${SUBJ}/surf ${fsSurf}/surf"
   ]
  },
  {
   "cell_type": "code",
   "execution_count": null,
   "metadata": {},
   "outputs": [],
   "source": [
    "# return to startpath\n",
    "cd ${startpath}"
   ]
  },
  {
   "cell_type": "code",
   "execution_count": null,
   "metadata": {},
   "outputs": [],
   "source": []
  }
 ],
 "metadata": {
  "kernelspec": {
   "display_name": "Bash",
   "language": "bash",
   "name": "bash"
  },
  "language_info": {
   "codemirror_mode": "shell",
   "file_extension": ".sh",
   "mimetype": "text/x-sh",
   "name": "bash"
  }
 },
 "nbformat": 4,
 "nbformat_minor": 4
}
