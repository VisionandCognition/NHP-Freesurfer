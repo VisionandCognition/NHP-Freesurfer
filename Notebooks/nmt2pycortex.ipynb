{
 "cells": [
  {
   "cell_type": "markdown",
   "metadata": {},
   "source": [
    "# Import NHP surfaces from NHP-Freesurfer into Pycortex\n",
    "This pipeline assumes that you have already:    \n",
    "- Have [Freesurfer](https://surfer.nmr.mgh.harvard.edu/) installed.\n",
    "- Processed the NHP data with [NHP-Freesurfer](https://github.com/VisionandCognition/NHP-Freesurfer).     \n",
    "- Installed pycortex as explained in the [README](https://github.com/VisionandCognition/NHP-pycortex/blob/master/README.md) file of this repo.\n",
    "\n",
    "If this is the case you can follow the steps below to:     \n",
    "- Import the NHP-Freesurfer subject into Pycortex (surfaces)   \n",
    "- Import flatmaps and transform information between templates and surfaces\n",
    "- Check if it worked using dummy data    \n",
    "\n",
    "Finally, some instructions are provided to project *any* volumetric to surfaces with Pycortex."
   ]
  },
  {
   "cell_type": "markdown",
   "metadata": {},
   "source": [
    "## Import FS subject\n",
    "This works for FS subjects that have been properly processed with [NHP-Freesurfer](https://github.com/VisionandCognition/NHP-Freesurfer). Some methods in Pycortex have been adapted to make them compatible with NHP pipelines. For example, `cortex.freesurfer.import_subjnhp` is an nhp adaptation of pycortex's `cortex.freesurfer.import_subj`. The original method is also still present, but `cortex.freesurfer.import_subjnhp` avoids trying to import data-files that do not exist for NHP-Freesurfer (like the subcortical segementation `aseg.mgz`)."
   ]
  },
  {
   "cell_type": "code",
   "execution_count": 24,
   "metadata": {},
   "outputs": [],
   "source": [
    "import cortex\n",
    "import os, shutil, subprocess\n",
    "import numpy as np"
   ]
  },
  {
   "cell_type": "code",
   "execution_count": 25,
   "metadata": {},
   "outputs": [],
   "source": [
    "subject='NMT' # should be the FS Subject name"
   ]
  },
  {
   "cell_type": "code",
   "execution_count": 26,
   "metadata": {},
   "outputs": [],
   "source": [
    "# freesurfer subject folder\n",
    "fsp = os.path.join(os.environ['SUBJECTS_DIR'],subject) # if FS is installed, this env_variable should give us the subjects directory\n",
    "# manual-masks path with reference volumes\n",
    "manmask_path = '/Users/chris/Dropbox/GIT_Support/NHP-BIDS/manual-masks' # NB! this is system dependent\n",
    "#mm_func = os.path.join(manmask_path, 'sub-' + subject.lower(), 'func')"
   ]
  },
  {
   "cell_type": "code",
   "execution_count": 27,
   "metadata": {},
   "outputs": [
    {
     "name": "stdout",
     "output_type": "stream",
     "text": [
      "b'created by chris on Sat Jun 20 21:56:51 2020\\n'\n",
      "b'created by chris on Sat Jun 20 21:56:52 2020\\n'\n",
      "b'created by chris on Sat Jun 20 22:04:11 2020\\n'\n",
      "b'created by chris on Sat Jun 20 22:04:12 2020\\n'\n",
      "b'created by chris on Sat Jun 20 21:56:51 2020\\n'\n",
      "b'created by chris on Sat Jun 20 22:04:11 2020\\n'\n",
      "b'created by chris on Sat Jun 20 21:56:52 2020\\n'\n",
      "b'created by chris on Sat Jun 20 22:04:12 2020\\n'\n",
      "b'created by chris on Sat Jun 20 21:57:02 2020\\n'\n",
      "b'created by chris on Sat Jun 20 22:04:22 2020\\n'\n"
     ]
    }
   ],
   "source": [
    "# import Freesurfer subject into pycortex\n",
    "cortex.freesurfer.import_subjnhp(subject)"
   ]
  },
  {
   "cell_type": "markdown",
   "metadata": {},
   "source": [
    "## Import FS subject\n",
    "These flatmaps should have been generated with [NHP-Freesurfer](https://github.com/VisionandCognition/NHP-Freesurfer). Here we only import the full hemispheric flatmap, but you can do the same thing for other flatmaps (e.g., occipital). Make sure they are in the expected naming scheme though and create copiess (like we do below) if they're not."
   ]
  },
  {
   "cell_type": "code",
   "execution_count": 28,
   "metadata": {},
   "outputs": [],
   "source": [
    "# copy FS flatmaps to expected naming scheme (may not be necessary but is if you followed NHP-Freesurfer)\n",
    "for xh in ['lh','rh']:\n",
    "    src_file = os.path.join(fsp,'surf', xh + '.full.patch.flat')\n",
    "    trg_file = os.path.join(fsp,'surf', xh + '.full.flat.patch.3d')\n",
    "    shutil.copyfile(src_file,trg_file)"
   ]
  },
  {
   "cell_type": "code",
   "execution_count": 29,
   "metadata": {},
   "outputs": [
    {
     "name": "stdin",
     "output_type": "stream",
     "text": [
      "Warning: This is intended to over-write .gii files storing\n",
      "flatmap vertex locations for this subject, and will result\n",
      "in deletion of the overlays.svg file and all cached info\n",
      "for this subject (because flatmaps will fundamentally change).\n",
      "Proceed? [y]/n:  \n"
     ]
    },
    {
     "name": "stdout",
     "output_type": "stream",
     "text": [
      "b'created by chris on Sat Jun 20 21:56:51 2020\\n'\n",
      "saving to /home/chris/Dropbox/CURRENT_PROJECTS/NHP_MRI/pycortex/db/NMT/surfaces/flat_lh.gii\n",
      "b'created by chris on Sat Jun 20 22:04:11 2020\\n'\n",
      "saving to /home/chris/Dropbox/CURRENT_PROJECTS/NHP_MRI/pycortex/db/NMT/surfaces/flat_rh.gii\n",
      "No overlays.svg file to delete\n"
     ]
    }
   ],
   "source": [
    "# also import FS flatmaps into pycortex\n",
    "cortex.freesurfer.import_flat(subject,\"full\")"
   ]
  },
  {
   "cell_type": "markdown",
   "metadata": {},
   "source": [
    "## [OPTIONAL] Create the Freesurfer based transforms\n",
    "If the transforms from func/anat (reference) to the FS-anatomical on which the surfaces are based have not been created yet, do it here. If they do exist, skip these steps and move on to **Convert and import Freesurfer transforms into Pycortex**. We assume here that results are in functional space and need to be registered to the Freesurfer anatomical on which the surfaces are based. Adjust where necessary (in a new notebook). "
   ]
  },
  {
   "cell_type": "code",
   "execution_count": 30,
   "metadata": {},
   "outputs": [
    {
     "data": {
      "text/plain": [
       "CompletedProcess(args=['mri_convert', '/usr/local/freesurfer6/subjects/NMT/mri/wm.mgz', '/usr/local/freesurfer6/subjects/NMT/mri/wm.nii.gz'], returncode=0)"
      ]
     },
     "execution_count": 30,
     "metadata": {},
     "output_type": "execute_result"
    }
   ],
   "source": [
    "# where are functional references\n",
    "epi = os.path.join(manmask_path, 'sub-danny', 'warps', 'sub-danny_func2nmt_res-1x1x1.nii.gz')\n",
    "epi_mask = os.path.join(manmask_path, 'sub-danny', 'warps', 'sub-danny_func2nmt_mask_res-1x1x1.nii.gz')\n",
    "epi_brain = os.path.join(manmask_path, 'sub-danny', 'warps', 'sub-danny_func2nmt_brain_res-1x1x1.nii.gz')\n",
    "\n",
    "# where are the freesurfer anatomicals \n",
    "fs_t1 = os.path.join(fsp,'mri','brainmask.mgz')\n",
    "fs_wm = os.path.join(fsp,'mri','wm.mgz')\n",
    "\n",
    "# make a folder for reference-to-freesurfer files\n",
    "mm2fs_path = os.path.join(fsp,'manual-masks_toFS') \n",
    "shutil.os.makedirs(mm2fs_path,exist_ok=True)\n",
    "\n",
    "# convert mgz to nifti\n",
    "subprocess.run(['mri_convert', fs_t1, os.path.join(fsp,'mri','brain.nii.gz')])\n",
    "subprocess.run(['mri_convert', fs_wm, os.path.join(fsp,'mri','wm.nii.gz')])"
   ]
  },
  {
   "cell_type": "markdown",
   "metadata": {},
   "source": [
    "Now create the registration files."
   ]
  },
  {
   "cell_type": "code",
   "execution_count": 31,
   "metadata": {},
   "outputs": [
    {
     "data": {
      "text/plain": [
       "CompletedProcess(args=['tkregister2', '--mov', '/Users/chris/Dropbox/GIT_Support/NHP-BIDS/manual-masks/sub-danny/warps/sub-danny_func2nmt_brain_res-1x1x1.nii.gz', '--targ', '/usr/local/freesurfer6/subjects/NMT/mri/brain.nii.gz', '--fsl', '/usr/local/freesurfer6/subjects/NMT/manual-masks_toFS/epi2fs.mat', '--reg', '/usr/local/freesurfer6/subjects/NMT/manual-masks_toFS/epi2fs.reg.dat', '--s', 'NMT'], returncode=0)"
      ]
     },
     "execution_count": 31,
     "metadata": {},
     "output_type": "execute_result"
    }
   ],
   "source": [
    "# flirt\n",
    "subprocess.run([\n",
    "    'flirt', '-ref', os.path.join(fsp,'mri','brain.nii.gz'),\n",
    "    '-wmseg', os.path.join(fsp,'mri','wm.nii.gz'),\n",
    "    '-in', epi_brain,\n",
    "    '-out', os.path.join(mm2fs_path,'epi2fs.nii.gz'),\n",
    "    '-omat', os.path.join(mm2fs_path,'epi2fs.mat'),\n",
    "    '-pedir','-2',\n",
    "    ])\n",
    "\n",
    "# tkreg\n",
    "subprocess.run([\n",
    "    'tkregister2', '--mov', epi_brain,\n",
    "    '--targ', os.path.join(fsp,'mri','brain.nii.gz'),\n",
    "    '--fsl',  os.path.join(mm2fs_path,'epi2fs.mat'),\n",
    "    '--reg',  os.path.join(mm2fs_path,'epi2fs.reg.dat'),\n",
    "    '--s', subject,\n",
    "    ])"
   ]
  },
  {
   "cell_type": "markdown",
   "metadata": {},
   "source": [
    "## Convert and import freesurfer transforms into Pycortex\n",
    "These transforms have probably already been generated in [NHP-Freesurfer](https://github.com/VisionandCognition/NHP-Freesurfer). "
   ]
  },
  {
   "cell_type": "code",
   "execution_count": 32,
   "metadata": {},
   "outputs": [],
   "source": [
    "# link to a folder for reference-to-freesurfer files\n",
    "mm2fs_path = os.path.join(fsp,'manual-masks_toFS') \n",
    "# convert the existing FS transform from ref-functional to FS-anatomical into a pycortex format\n",
    "xfm_name = \"epi2surf\" # how will we call this transform\n",
    "# copy FS anatomy to expected filename (may not be necessary but is if you followed NHP-Freesurfer)\n",
    "shutil.copyfile(os.path.join(fsp,'mri','T1.mgz'), os.path.join(fsp,'mri','orig.mgz'))\n",
    "# set same shorter names for files\n",
    "# the tkreg file from freesurfer\n",
    "fs_dat_func = os.path.join(mm2fs_path,'epi2fs.reg.dat')\n",
    "# convert\n",
    "cortex.xfm.Transform.from_freesurfer(fs_dat_func,epi_brain,subject).save(subject,xfm_name,'coord')"
   ]
  },
  {
   "cell_type": "code",
   "execution_count": 33,
   "metadata": {},
   "outputs": [],
   "source": [
    "# We'll create some random data here to test\n",
    "data = cortex.Volume.random(subject, 'epi2surf')"
   ]
  },
  {
   "cell_type": "code",
   "execution_count": 34,
   "metadata": {},
   "outputs": [
    {
     "name": "stdout",
     "output_type": "stream",
     "text": [
      "Generating new ctm file...\n",
      "wm\n",
      "wm\n",
      "inflated\n",
      "inflated\n",
      "Generating a flatmap cache\n",
      "Started server on port 49601\n"
     ]
    },
    {
     "data": {
      "text/plain": [
       "<JS: window.viewer>"
      ]
     },
     "execution_count": 34,
     "metadata": {},
     "output_type": "execute_result"
    },
    {
     "name": "stdout",
     "output_type": "stream",
     "text": [
      "Stopping server\n"
     ]
    }
   ],
   "source": [
    "# open web viewer\n",
    "cortex.webshow(data)"
   ]
  },
  {
   "cell_type": "markdown",
   "metadata": {},
   "source": [
    "# Project results to the surface\n",
    "The code below shows how to project results to the surfaces. "
   ]
  },
  {
   "cell_type": "code",
   "execution_count": null,
   "metadata": {},
   "outputs": [],
   "source": [
    "# You can load data with \n",
    "# test_data = <'path/to/testdata.nii.gz>'\n",
    "# data = cortex.Volume(test_data, subject, xfm)"
   ]
  },
  {
   "cell_type": "markdown",
   "metadata": {},
   "source": [
    "The loaded volume `test_data` is now a numpy array and you can manipulate it as such (use masks, threshold, interpolate, etc)"
   ]
  },
  {
   "cell_type": "code",
   "execution_count": null,
   "metadata": {},
   "outputs": [],
   "source": [
    "# then look at the results\n",
    "# cortex.webshow(data)"
   ]
  }
 ],
 "metadata": {
  "kernelspec": {
   "display_name": "Python 3",
   "language": "python",
   "name": "python3"
  },
  "language_info": {
   "codemirror_mode": {
    "name": "ipython",
    "version": 3
   },
   "file_extension": ".py",
   "mimetype": "text/x-python",
   "name": "python",
   "nbconvert_exporter": "python",
   "pygments_lexer": "ipython3",
   "version": "3.7.6"
  }
 },
 "nbformat": 4,
 "nbformat_minor": 4
}
